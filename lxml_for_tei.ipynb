{
 "cells": [
  {
   "cell_type": "markdown",
   "metadata": {},
   "source": [
    "# Парсим TEI с помощью lxml\n",
    "\n",
    "lxml - это питоновский модуль для работы с XML и HTML: с его помощью можно как создавать, так и парсить XML/HTML. В случае с TEI нас интересует XML. Давайте попробуем распарсить малый академический словарь (лежит в этом же репозитории, *MAS.tei*)."
   ]
  },
  {
   "cell_type": "markdown",
   "metadata": {},
   "source": [
    "## etree"
   ]
  },
  {
   "cell_type": "markdown",
   "metadata": {},
   "source": [
    "Для парсинга xml используется etree. Импортируем его и считаем им файл в tei."
   ]
  },
  {
   "cell_type": "code",
   "execution_count": 2,
   "metadata": {
    "collapsed": true
   },
   "outputs": [],
   "source": [
    "from lxml import etree"
   ]
  },
  {
   "cell_type": "code",
   "execution_count": 3,
   "metadata": {
    "collapsed": false
   },
   "outputs": [
    {
     "name": "stdout",
     "output_type": "stream",
     "text": [
      "<xml>\n",
      "\t<fileDesc>\n",
      "\t\t<respStmt>\n",
      "\t\t\t<name>Вячеслав Иванов</name>\n",
      "\t\t</respStmt>\n",
      "\t\t<extent>1607</extent>\n",
      "\t\t<sourceDesc>\n",
      "\t\t\t<ref target=\"ссылка на источник в интернете\">http://feb-web.ru/feb/mas/mas-abc/de\n"
     ]
    }
   ],
   "source": [
    "# открываем файл со словарём\n",
    "with open('MAS.tei') as f:\n",
    "    text = f.read()\n",
    "print(text[:200])"
   ]
  },
  {
   "cell_type": "code",
   "execution_count": 5,
   "metadata": {
    "collapsed": true
   },
   "outputs": [],
   "source": [
    "# создаём дерево etree из строки\n",
    "root = etree.fromstring(text)"
   ]
  },
  {
   "cell_type": "markdown",
   "metadata": {},
   "source": [
    "etree строит из xml/html докуменда дерева, где тэг со своим содержанием и свойствами -- узел, а вложенные в него тэги -- его дети. К детям узла можно обращаться по индексу, (а ещё их можно обходить циклом for).\n",
    "\n",
    "От каждого узла можно вызвать .tag -- название тэга, а от некоторых -- text (вложенный текст), attrib (возвращает словарик с парами атрибут - его значение), tail (кусочек текста после закрывающего тэга)."
   ]
  },
  {
   "cell_type": "code",
   "execution_count": 5,
   "metadata": {
    "collapsed": false
   },
   "outputs": [
    {
     "data": {
      "text/plain": [
       "'xml'"
      ]
     },
     "execution_count": 5,
     "metadata": {},
     "output_type": "execute_result"
    }
   ],
   "source": [
    "root.tag"
   ]
  },
  {
   "cell_type": "code",
   "execution_count": 7,
   "metadata": {
    "collapsed": false
   },
   "outputs": [
    {
     "data": {
      "text/plain": [
       "'respStmt'"
      ]
     },
     "execution_count": 7,
     "metadata": {},
     "output_type": "execute_result"
    }
   ],
   "source": [
    "root[0][0].tag"
   ]
  },
  {
   "cell_type": "code",
   "execution_count": 9,
   "metadata": {
    "collapsed": false
   },
   "outputs": [
    {
     "name": "stdout",
     "output_type": "stream",
     "text": [
      "name\n",
      "Вячеслав Иванов\n"
     ]
    }
   ],
   "source": [
    "print(root[0][0][0].tag)\n",
    "print(root[0][0][0].text)"
   ]
  },
  {
   "cell_type": "code",
   "execution_count": 14,
   "metadata": {
    "collapsed": false
   },
   "outputs": [
    {
     "data": {
      "text/plain": [
       "'name'"
      ]
     },
     "execution_count": 14,
     "metadata": {},
     "output_type": "execute_result"
    }
   ],
   "source": [
    "root[0][0][0].tag"
   ]
  },
  {
   "cell_type": "code",
   "execution_count": 24,
   "metadata": {
    "collapsed": false
   },
   "outputs": [
    {
     "data": {
      "text/plain": [
       "{'target': 'ссылка на источник в интернете'}"
      ]
     },
     "execution_count": 24,
     "metadata": {},
     "output_type": "execute_result"
    }
   ],
   "source": [
    "root[0][2][0].attrib"
   ]
  },
  {
   "cell_type": "markdown",
   "metadata": {},
   "source": [
    "## XPath"
   ]
  },
  {
   "cell_type": "markdown",
   "metadata": {},
   "source": [
    "! Вся описательная часть этого раздела скопирована из [туториала Эли Мустакимовой](https://github.com/elmiram/2017learnpython/blob/master/2%20%D0%A1%D0%B5%D0%BC%D0%B8%D0%BD%D0%B0%D1%80%20-%20lxml.ipynb). Спасибо Эле!\n",
    "\n",
    "XPath - это способ представления пути к информации в структурированных документах типа XML/HTML. В XPath используются специальные выражения для того, чтобы выбирать какие-то узлы (элементы) в дереве XML. Есть [туториал по XPath на w3schools](https://www.w3schools.com/xml/xpath_nodes.asp), очень советую его почитать.\n",
    "\n",
    "Элементы XPath выражения:\n",
    "* tag - выбрать все узлы с названием tag\n",
    "* / - указывает на узлы, которые являются прямыми потомками текущего\n",
    "* // - указывает на узлы, которые являются потомками текущего (где-то внутри текущего узла, но необязательно его потомок)\n",
    "* . - текущий узел\n",
    "* .. - родитель текущего узла\n",
    "* @ - указывает на атрибут\n",
    "* text() - выбирает весь текст внутри узла (и внутри дочерних узлов тоже)\n",
    "\n",
    "В XPath выражении могут быть предикаты, которые позволяют выбрать конкретный узел, предикаты пишутся в квадратных скобках. Например:\n",
    "* //p[1] - выбрать первый элемент, который является ребенком узла с тэгом p\n",
    "* //p[@style] - выбрать все узлы с тэгом p, у которых есть атрибут style\n",
    "* //td[@border=\"1\"] - выбрать все узлы с тэгом td, у которых атрибут border равен 1\n",
    "\n",
    "Также есть специальные знаки, означающие \"любой\":\n",
    "* \\* - любой узел (например //\\* - все элементы дерева, /body/\\* - все дети тэга body)\n",
    "* @ - любой атрибут (например `//p[@]` - все узлы с тэгом p, у которых есть хоть один какой-то атрибут)\n",
    "\n",
    "\n",
    "### А тепеть давайте попробуем применить это к нашим данным:"
   ]
  },
  {
   "cell_type": "code",
   "execution_count": 28,
   "metadata": {
    "collapsed": false
   },
   "outputs": [
    {
     "name": "stdout",
     "output_type": "stream",
     "text": [
      "1605\n",
      "entry\n",
      "\n",
      "\n",
      "***\n",
      "\n",
      "\n",
      "<entry>\n",
      "\t\t\t\t\t\t<form>\n",
      "\t\t\t\t\t\t\t<orth>А1</orth>\n",
      "\t\t\t\t\t\t<gramGrp>\n",
      "\t\t\t\t\t\t</gramGrp>\n",
      "\t\t\t\t\t\t</form>\n",
      "\t\t\t\t\t\t<sense n=\"\">\n",
      "\t\t\t\t\t\t\t<def>\n",
      "\t\t\t\t\t\t\t\t<text>нескл., ср. Название первой буквы русского алфавита.</text>\n",
      "\t\t\t\t\t\t\t</def>\n",
      "\t\t\t\t\t\t</sense>\n",
      "\t\t\t\t\t\t\n",
      "\t\t\t\t\t\t\n",
      "\t\t\t\t\t\t\t<sense n=\"\">\n",
      "\t\t\t\t\t\t\t\t<def><text>От а до зет; от а до я — от начала до конца; всё целиком.</text></def>\n",
      "\t\t\t\t\t\t\t</sense>\n",
      "\t\t\t\t\t\t\n",
      "\t\t\t\t\t</entry>\n",
      "\t\t\t\t\t\n",
      "\t\t\t\t\t\n"
     ]
    }
   ],
   "source": [
    "# найдём все узлы с тэгом entry\n",
    "entries = root.xpath('.//entry')\n",
    "\n",
    "# получили массив тэгов\n",
    "print(len(entries))\n",
    "print(entries[0].tag)\n",
    "print('\\n\\n***\\n\\n')\n",
    "\n",
    "# преобразуем в строку и распечатаем\n",
    "print(etree.tostring(entries[0], encoding='utf-8').decode())"
   ]
  },
  {
   "cell_type": "code",
   "execution_count": 30,
   "metadata": {
    "collapsed": false
   },
   "outputs": [
    {
     "name": "stdout",
     "output_type": "stream",
     "text": [
      "<sense n=\"2\">\n",
      "\t\t\t\t\t\t\t<def>\n",
      "\t\t\t\t\t\t\t\t<text>2. вопросительная. а) Употребляется как вопросительный отклик на обращение или при переспросе нерасслышанного. — Ридель! — повторил он громко. — Ридель! — А? Что таков? — проговорил я словно спросонья. Тургенев, Стук… стук… стук!  Вы представьте: в четверг я еду в деревню, вдруг свистят! Даже мне свистят, а? М. Горький, Враги. </text>\n",
      "\t\t\t\t\t\t\t</def>\n",
      "\t\t\t\t\t\t</sense>\n",
      "\t\t\t\t\t\n"
     ]
    }
   ],
   "source": [
    "# найдём все узлы со вторым смыслом\n",
    "sec_sense = root.xpath('.//sense[@n=\"2\"]')\n",
    "print(etree.tostring(sec_sense[0], encoding='utf-8').decode())"
   ]
  },
  {
   "cell_type": "markdown",
   "metadata": {
    "collapsed": true
   },
   "source": [
    "### Задача: присвоить каждому тэгу entry аттрибут с порядковым номером\n",
    "\n",
    "Решение:"
   ]
  },
  {
   "cell_type": "code",
   "execution_count": 33,
   "metadata": {
    "collapsed": false
   },
   "outputs": [],
   "source": [
    "# находим все тэги entry с помощью xpath\n",
    "entries = root.xpath('.//entry')\n",
    "\n",
    "# обходим их циклом\n",
    "for i, entr in enumerate(entries):\n",
    "    entr.set('id', str(i))"
   ]
  },
  {
   "cell_type": "code",
   "execution_count": 34,
   "metadata": {
    "collapsed": false
   },
   "outputs": [
    {
     "name": "stdout",
     "output_type": "stream",
     "text": [
      "<entry id=\"6\">\n",
      "\t\t\t\t\t\t<form>\n",
      "\t\t\t\t\t\t\t<orth>АБАЗИНСКИЙ</orth>\n",
      "\t\t\t\t\t\t<gramGrp>\n",
      "\t\t\t\t\t\t\t<paradigm>-ая, -ое</paradigm>\n",
      "\t\t\t\t\t\t</gramGrp>\n",
      "\t\t\t\t\t\t</form>\n",
      "\t\t\t\t\t\t<sense n=\"\">\n",
      "\t\t\t\t\t\t\t<def>\n",
      "\t\t\t\t\t\t\t\t<text>Прил. к абазины. Абазинский язык.</text>\n",
      "\t\t\t\t\t\t\t</def>\n",
      "\t\t\t\t\t\t</sense>\n",
      "\t\t\t\t\t</entry>\n",
      "\n",
      "\t\t\t\t\t\n"
     ]
    }
   ],
   "source": [
    "# смотрим, что получилось\n",
    "print(etree.tostring(entries[6], encoding='utf-8').decode())"
   ]
  },
  {
   "cell_type": "markdown",
   "metadata": {},
   "source": [
    "## Выгружаем данные из etree дерева"
   ]
  },
  {
   "cell_type": "code",
   "execution_count": 13,
   "metadata": {
    "collapsed": false
   },
   "outputs": [
    {
     "name": "stdout",
     "output_type": "stream",
     "text": [
      "<respStmt>\n",
      "\t\t\t<name>Вячеслав Иванов</name>\n",
      "\t\t</respStmt>\n",
      "\t\t\n",
      "\n"
     ]
    }
   ],
   "source": [
    "# сохраняем whitespace-characters\n",
    "text = etree.tostring(root[0][0], encoding='utf-8', pretty_print=True).decode()\n",
    "print(text)"
   ]
  },
  {
   "cell_type": "code",
   "execution_count": 14,
   "metadata": {
    "collapsed": false
   },
   "outputs": [
    {
     "name": "stdout",
     "output_type": "stream",
     "text": [
      "<respStmt>\n",
      "  <name>Вячеслав Иванов</name>\n",
      "</respStmt>\n",
      "\n"
     ]
    }
   ],
   "source": [
    "# создаём ном новый красивый документ\n",
    "from lxml import objectify\n",
    "xml = objectify.fromstring(text)\n",
    "text = etree.tostring(xml, encoding='utf-8', pretty_print=True).decode()\n",
    "print(text)"
   ]
  }
 ],
 "metadata": {
  "anaconda-cloud": {},
  "kernelspec": {
   "display_name": "Python 3",
   "language": "python",
   "name": "python3"
  },
  "language_info": {
   "codemirror_mode": {
    "name": "ipython",
    "version": 3
   },
   "file_extension": ".py",
   "mimetype": "text/x-python",
   "name": "python",
   "nbconvert_exporter": "python",
   "pygments_lexer": "ipython3",
   "version": "3.5.2"
  }
 },
 "nbformat": 4,
 "nbformat_minor": 1
}
