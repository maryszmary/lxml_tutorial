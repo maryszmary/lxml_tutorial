{
 "cells": [
  {
   "cell_type": "markdown",
   "metadata": {},
   "source": [
    "# Парсим TEI с помощью lxml\n",
    "\n",
    "lxml - это питоновский модуль для работы с XML и HTML: с его помощью можно как создавать, так и парсить XML/HTML. В случае с TEI нас интересует XML. Давайте попробуем распарсить малый академический словарь (лежит в этом же репозитории, *MAS.tei*)."
   ]
  },
  {
   "cell_type": "markdown",
   "metadata": {},
   "source": [
    "## etree"
   ]
  },
  {
   "cell_type": "markdown",
   "metadata": {},
   "source": [
    "Для парсинга xml используется etree. Импортируем его и считаем им файл в tei."
   ]
  },
  {
   "cell_type": "code",
   "execution_count": 1,
   "metadata": {
    "collapsed": true
   },
   "outputs": [],
   "source": [
    "from lxml import etree"
   ]
  },
  {
   "cell_type": "code",
   "execution_count": 3,
   "metadata": {
    "collapsed": false
   },
   "outputs": [
    {
     "name": "stdout",
     "output_type": "stream",
     "text": [
      "<xml>\n",
      "\t<fileDesc>\n",
      "\t\t<respStmt>\n",
      "\t\t\t<name>Вячеслав Иванов</name>\n",
      "\t\t</respStmt>\n",
      "\t\t<extent>1607</extent>\n",
      "\t\t<sourceDesc>\n",
      "\t\t\t<ref target=\"ссылка на источник в интернете\">http://feb-web.ru/feb/mas/mas-abc/de\n"
     ]
    }
   ],
   "source": [
    "# открываем файл со словарём\n",
    "with open('MAS.tei') as f:\n",
    "    text = f.read()\n",
    "print(text[:200])"
   ]
  },
  {
   "cell_type": "code",
   "execution_count": 4,
   "metadata": {
    "collapsed": true
   },
   "outputs": [],
   "source": [
    "# создаём дерево etree из строки\n",
    "root = etree.fromstring(text)"
   ]
  },
  {
   "cell_type": "code",
   "execution_count": 5,
   "metadata": {
    "collapsed": false
   },
   "outputs": [
    {
     "data": {
      "text/plain": [
       "'xml'"
      ]
     },
     "execution_count": 5,
     "metadata": {},
     "output_type": "execute_result"
    }
   ],
   "source": [
    "root.tag"
   ]
  },
  {
   "cell_type": "code",
   "execution_count": 7,
   "metadata": {
    "collapsed": false
   },
   "outputs": [
    {
     "data": {
      "text/plain": [
       "'respStmt'"
      ]
     },
     "execution_count": 7,
     "metadata": {},
     "output_type": "execute_result"
    }
   ],
   "source": [
    "root[0][0].tag"
   ]
  },
  {
   "cell_type": "code",
   "execution_count": 9,
   "metadata": {
    "collapsed": false
   },
   "outputs": [
    {
     "name": "stdout",
     "output_type": "stream",
     "text": [
      "name\n",
      "Вячеслав Иванов\n"
     ]
    }
   ],
   "source": [
    "print(root[0][0][0].tag)\n",
    "print(root[0][0][0].text)"
   ]
  },
  {
   "cell_type": "code",
   "execution_count": null,
   "metadata": {
    "collapsed": false
   },
   "outputs": [],
   "source": []
  },
  {
   "cell_type": "code",
   "execution_count": null,
   "metadata": {
    "collapsed": true
   },
   "outputs": [],
   "source": []
  },
  {
   "cell_type": "markdown",
   "metadata": {},
   "source": [
    "## XPath"
   ]
  },
  {
   "cell_type": "markdown",
   "metadata": {},
   "source": [
    "! Вся описательная часть этого раздела скопирована из [туториала Эли Мустакимовой](https://github.com/elmiram/2017learnpython/blob/master/2%20%D0%A1%D0%B5%D0%BC%D0%B8%D0%BD%D0%B0%D1%80%20-%20lxml.ipynb). Спасибо Эле!\n",
    "\n",
    "XPath - это способ представления пути к информации в структурированных документах типа XML/HTML. В XPath используются специальные выражения для того, чтобы выбирать какие-то узлы (элементы) в дереве XML. Есть туториал по XPath на w3schools, очень советую его почитать.\n",
    "\n",
    "Элементы XPath выражения:\n",
    "* tag - выбрать все узлы с названием tag\n",
    "* / - указывает на узлы, которые являются прямыми потомками текущего\n",
    "* // - указывает на узлы, которые являются потомками текущего (где-то внутри текущего узла, но необязательно его потомок)\n",
    "* . - текущий узел\n",
    "* .. - родитель текущего узла\n",
    "* @ - указывает на атрибут\n",
    "* text() - выбирает весь текст внутри узла (и внутри дочерних узлов тоже)\n",
    "\n",
    "В XPath выражении могут быть предикаты, которые позволяют выбрать конкретный узел, предикаты пишутся в квадратных скобках. Например:\n",
    "* //p[1] - выбрать первый элемент, который является ребенком узла с тэгом p\n",
    "* //p[@style] - выбрать все узлы с тэгом p, у которых есть атрибут style\n",
    "* //td[@border=\"1\"] - выбрать все узлы с тэгом td, у которых атрибут border равен 1\n",
    "\n",
    "Также есть специальные знаки, означающие \"любой\":\n",
    "* \\* - любой узел (например //\\* - все элементы дерева, /body/\\* - все дети тэга body)\n",
    "* @ - любой атрибут (например `//p[@]` - все узлы с тэгом p, у которых есть хоть один какой-то атрибут)\n",
    "\n",
    "Например, если мы хотим найти все даты на нашей странице, мы соберем такое выражение:\n",
    "\n",
    "> //span[@class=\"post__time_published\"]/text()\n",
    "\n",
    "Все заголовки:\n",
    "> //a[@class=\"post__title_link\"]/text()\n",
    "\n",
    "### А тепеть давайте попробуем применить это к нашим данным:"
   ]
  },
  {
   "cell_type": "code",
   "execution_count": null,
   "metadata": {
    "collapsed": true
   },
   "outputs": [],
   "source": []
  },
  {
   "cell_type": "code",
   "execution_count": null,
   "metadata": {
    "collapsed": true
   },
   "outputs": [],
   "source": []
  }
 ],
 "metadata": {
  "anaconda-cloud": {},
  "kernelspec": {
   "display_name": "Python 3",
   "language": "python",
   "name": "python3"
  },
  "language_info": {
   "codemirror_mode": {
    "name": "ipython",
    "version": 3
   },
   "file_extension": ".py",
   "mimetype": "text/x-python",
   "name": "python",
   "nbconvert_exporter": "python",
   "pygments_lexer": "ipython3",
   "version": "3.5.2"
  }
 },
 "nbformat": 4,
 "nbformat_minor": 1
}
